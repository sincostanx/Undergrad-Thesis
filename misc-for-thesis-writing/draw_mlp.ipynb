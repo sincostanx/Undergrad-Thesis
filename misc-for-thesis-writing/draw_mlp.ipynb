{
  "nbformat": 4,
  "nbformat_minor": 0,
  "metadata": {
    "colab": {
      "name": "gen_mlp.ipynb",
      "provenance": []
    },
    "kernelspec": {
      "name": "python3",
      "display_name": "Python 3"
    },
    "language_info": {
      "name": "python"
    }
  },
  "cells": [
    {
      "cell_type": "code",
      "metadata": {
        "colab": {
          "base_uri": "https://localhost:8080/"
        },
        "id": "smCLNGD2rUCy",
        "outputId": "0af3d545-bbce-4455-90e1-d556523a9512"
      },
      "source": [
        "! git clone https://github.com/sincostanx/dotnets"
      ],
      "execution_count": 1,
      "outputs": [
        {
          "output_type": "stream",
          "name": "stdout",
          "text": [
            "Cloning into 'dotnets'...\n",
            "remote: Enumerating objects: 50, done.\u001b[K\n",
            "remote: Counting objects: 100% (4/4), done.\u001b[K\n",
            "remote: Compressing objects: 100% (4/4), done.\u001b[K\n",
            "remote: Total 50 (delta 0), reused 0 (delta 0), pack-reused 46\u001b[K\n",
            "Unpacking objects: 100% (50/50), done.\n"
          ]
        }
      ]
    },
    {
      "cell_type": "code",
      "metadata": {
        "colab": {
          "base_uri": "https://localhost:8080/"
        },
        "id": "s7bhJVVHFfW_",
        "outputId": "4fc65f27-3285-4b98-96a2-d8602c241847"
      },
      "source": [
        "! pip install dot2tex"
      ],
      "execution_count": 2,
      "outputs": [
        {
          "output_type": "stream",
          "name": "stdout",
          "text": [
            "Collecting dot2tex\n",
            "  Downloading dot2tex-2.11.3-py2.py3-none-any.whl (36 kB)\n",
            "Requirement already satisfied: pyparsing in /usr/local/lib/python3.7/dist-packages (from dot2tex) (3.0.7)\n",
            "Installing collected packages: dot2tex\n",
            "Successfully installed dot2tex-2.11.3\n"
          ]
        }
      ]
    },
    {
      "cell_type": "code",
      "metadata": {
        "colab": {
          "base_uri": "https://localhost:8080/"
        },
        "id": "S-lhsfMJragc",
        "outputId": "c69c4b5f-e672-4d9b-c3cd-3e022f7a66c4"
      },
      "source": [
        "% cd ./dotnets"
      ],
      "execution_count": 3,
      "outputs": [
        {
          "output_type": "stream",
          "name": "stdout",
          "text": [
            "/content/dotnets\n"
          ]
        }
      ]
    },
    {
      "cell_type": "code",
      "metadata": {
        "id": "D0A6fGswwDby",
        "colab": {
          "base_uri": "https://localhost:8080/"
        },
        "outputId": "18d11d91-edfe-4184-c3bf-432069aac85a"
      },
      "source": [
        "! python dotnets.py --layer-dim 4 5 6 5 3 | dot -Tdot MLP.dot"
      ],
      "execution_count": 4,
      "outputs": [
        {
          "output_type": "stream",
          "name": "stdout",
          "text": [
            "Error: dot: can't open MLP.dot\n"
          ]
        }
      ]
    },
    {
      "cell_type": "code",
      "metadata": {
        "id": "M5oLCnBaGNdO",
        "colab": {
          "base_uri": "https://localhost:8080/"
        },
        "outputId": "e56ebf7f-7557-4a6f-a6ff-185741b7f0fc"
      },
      "source": [
        "! dot -Txdot MLP.dot | dot2tex > MLP.tex"
      ],
      "execution_count": 5,
      "outputs": [
        {
          "output_type": "stream",
          "name": "stdout",
          "text": [
            "Error: dot: can't open MLP.dot\n",
            "ERROR    Parse error:\n",
            "\n",
            "^\n",
            "Expected {'GRAPH' | 'DIGRAPH'}  (at char 0), (line:1, col:1)\n",
            "ERROR    Failed to parse the input data. Is it a valid dot file?\n",
            "Try to input xdot data directly. Example:\n",
            "    dot -Txdot file.dot | dot2tex > file.tex\n",
            "\n",
            "If this does not work, check that you have an updated version of PyParsing and\n",
            "Graphviz. Users have reported problems with old versions. You can also run\n",
            "dot2tex in debug mode using the --debug option:\n",
            "    dot2tex --debug file.dot\n",
            "A file dot2tex.log will be written to the current directory with detailed\n",
            "information useful for debugging.\n"
          ]
        }
      ]
    },
    {
      "cell_type": "code",
      "metadata": {
        "colab": {
          "base_uri": "https://localhost:8080/"
        },
        "id": "H3n-O2QmwrxA",
        "outputId": "303c6a2e-0577-493e-90f7-fed2008d47eb"
      },
      "source": [
        "! python dotnets.py --layer-dim 4 5 6 5 3"
      ],
      "execution_count": 6,
      "outputs": [
        {
          "output_type": "stream",
          "name": "stdout",
          "text": [
            "digraph G {\n",
            "\tfontname = \"Hilda 10\"\n",
            "\trankdir=LR\n",
            "\tsplines=line\n",
            "\tnodesep=.08;\n",
            "\tranksep=1;\n",
            "\tedge [color=black, arrowsize=.5];\n",
            "\tnode [fixedsize=true,label=\"\",style=filled,color=none,fillcolor=gray,shape=circle]\n",
            "\n",
            "\tsubgraph cluster_0 {\n",
            "\t\tcolor=none;\n",
            "\t\tnode [style=filled, color=white, penwidth=15,fillcolor=black shape=circle];\n",
            "\t\t l10  l11  l12  l13  ;\n",
            "\t\tlabel = \"Input (0)\";\n",
            "\t}\n",
            "\n",
            "\tsubgraph cluster_1 {\n",
            "\t\tcolor=none;\n",
            "\t\tnode [style=filled, color=white, penwidth=15,fillcolor=gray shape=circle];\n",
            "\t\t l20  l21  l22  l23  l24  ;\n",
            "\t\tlabel = \"Hidden (1)\";\n",
            "\t}\n",
            "\n",
            "\tsubgraph cluster_2 {\n",
            "\t\tcolor=none;\n",
            "\t\tnode [style=filled, color=white, penwidth=15,fillcolor=gray shape=circle];\n",
            "\t\t l30  l31  l32  l33  l34  l35  ;\n",
            "\t\tlabel = \"Hidden (2)\";\n",
            "\t}\n",
            "\n",
            "\tsubgraph cluster_3 {\n",
            "\t\tcolor=none;\n",
            "\t\tnode [style=filled, color=white, penwidth=15,fillcolor=gray shape=circle];\n",
            "\t\t l40  l41  l42  l43  l44  ;\n",
            "\t\tlabel = \"Hidden (3)\";\n",
            "\t}\n",
            "\n",
            "\tsubgraph cluster_4 {\n",
            "\t\tcolor=none;\n",
            "\t\tnode [style=filled, color=white, penwidth=15,fillcolor=black shape=circle];\n",
            "\t\t l50  l51  l52  ;\n",
            "\t\tlabel = \"Output (4)\";\n",
            "\t}\n",
            "\n",
            "\tl10 -> l20\n",
            "\tl10 -> l21\n",
            "\tl10 -> l22\n",
            "\tl10 -> l23\n",
            "\tl10 -> l24\n",
            "\tl11 -> l20\n",
            "\tl11 -> l21\n",
            "\tl11 -> l22\n",
            "\tl11 -> l23\n",
            "\tl11 -> l24\n",
            "\tl12 -> l20\n",
            "\tl12 -> l21\n",
            "\tl12 -> l22\n",
            "\tl12 -> l23\n",
            "\tl12 -> l24\n",
            "\tl13 -> l20\n",
            "\tl13 -> l21\n",
            "\tl13 -> l22\n",
            "\tl13 -> l23\n",
            "\tl13 -> l24\n",
            "\tl20 -> l30\n",
            "\tl20 -> l31\n",
            "\tl20 -> l32\n",
            "\tl20 -> l33\n",
            "\tl20 -> l34\n",
            "\tl20 -> l35\n",
            "\tl21 -> l30\n",
            "\tl21 -> l31\n",
            "\tl21 -> l32\n",
            "\tl21 -> l33\n",
            "\tl21 -> l34\n",
            "\tl21 -> l35\n",
            "\tl22 -> l30\n",
            "\tl22 -> l31\n",
            "\tl22 -> l32\n",
            "\tl22 -> l33\n",
            "\tl22 -> l34\n",
            "\tl22 -> l35\n",
            "\tl23 -> l30\n",
            "\tl23 -> l31\n",
            "\tl23 -> l32\n",
            "\tl23 -> l33\n",
            "\tl23 -> l34\n",
            "\tl23 -> l35\n",
            "\tl24 -> l30\n",
            "\tl24 -> l31\n",
            "\tl24 -> l32\n",
            "\tl24 -> l33\n",
            "\tl24 -> l34\n",
            "\tl24 -> l35\n",
            "\tl30 -> l40\n",
            "\tl30 -> l41\n",
            "\tl30 -> l42\n",
            "\tl30 -> l43\n",
            "\tl30 -> l44\n",
            "\tl31 -> l40\n",
            "\tl31 -> l41\n",
            "\tl31 -> l42\n",
            "\tl31 -> l43\n",
            "\tl31 -> l44\n",
            "\tl32 -> l40\n",
            "\tl32 -> l41\n",
            "\tl32 -> l42\n",
            "\tl32 -> l43\n",
            "\tl32 -> l44\n",
            "\tl33 -> l40\n",
            "\tl33 -> l41\n",
            "\tl33 -> l42\n",
            "\tl33 -> l43\n",
            "\tl33 -> l44\n",
            "\tl34 -> l40\n",
            "\tl34 -> l41\n",
            "\tl34 -> l42\n",
            "\tl34 -> l43\n",
            "\tl34 -> l44\n",
            "\tl35 -> l40\n",
            "\tl35 -> l41\n",
            "\tl35 -> l42\n",
            "\tl35 -> l43\n",
            "\tl35 -> l44\n",
            "\tl40 -> l50\n",
            "\tl40 -> l51\n",
            "\tl40 -> l52\n",
            "\tl41 -> l50\n",
            "\tl41 -> l51\n",
            "\tl41 -> l52\n",
            "\tl42 -> l50\n",
            "\tl42 -> l51\n",
            "\tl42 -> l52\n",
            "\tl43 -> l50\n",
            "\tl43 -> l51\n",
            "\tl43 -> l52\n",
            "\tl44 -> l50\n",
            "\tl44 -> l51\n",
            "\tl44 -> l52\n",
            "}\n"
          ]
        }
      ]
    }
  ]
}